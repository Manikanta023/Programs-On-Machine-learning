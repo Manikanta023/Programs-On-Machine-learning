{
 "cells": [
  {
   "cell_type": "code",
   "execution_count": 156,
   "metadata": {},
   "outputs": [],
   "source": [
    "import math\n"
   ]
  },
  {
   "cell_type": "code",
   "execution_count": 206,
   "metadata": {},
   "outputs": [],
   "source": [
    "ar = [115.3, 195.5, 120.5, 110.2, 90.4,\n",
    "       105.6, 110.9, 116.3, 122.3, 125.4, 122.3]\n"
   ]
  },
  {
   "cell_type": "code",
   "execution_count": 208,
   "metadata": {},
   "outputs": [
    {
     "name": "stdout",
     "output_type": "stream",
     "text": [
      "<function m at 0x7fd75ef69e10>\n"
     ]
    }
   ],
   "source": [
    "\n",
    "def m(ar):\n",
    "    mean = sum(ar)/len(ar)\n",
    "    print(m)\n"
   ]
  },
  {
   "cell_type": "code",
   "execution_count": null,
   "metadata": {},
   "outputs": [],
   "source": [
    "m(ar)\n"
   ]
  },
  {
   "cell_type": "code",
   "execution_count": 209,
   "metadata": {},
   "outputs": [],
   "source": [
    "def med(ar):\n",
    "    ar.sort()\n",
    "    if len(ar) % 2 == 1:\n",
    "        return ar[len(ar)//2]\n",
    "    else:\n",
    "        return (ar[len(ar)//2-1]+ar[len(ar)//2])//2\n"
   ]
  },
  {
   "cell_type": "markdown",
   "metadata": {},
   "source": []
  },
  {
   "cell_type": "code",
   "execution_count": 210,
   "metadata": {},
   "outputs": [
    {
     "data": {
      "text/plain": [
       "116.3"
      ]
     },
     "execution_count": 210,
     "metadata": {},
     "output_type": "execute_result"
    }
   ],
   "source": [
    "med(ar)\n"
   ]
  },
  {
   "cell_type": "code",
   "execution_count": 211,
   "metadata": {},
   "outputs": [],
   "source": [
    "def mode(ar):\n",
    "    frequency = {}\n",
    "    for number in ar:\n",
    "        frequency.setdefault(number, 0)\n",
    "        frequency[number] += 1\n",
    "\n",
    "    highest_freq = max(frequency.values())\n",
    "    highest_freq_list = []\n",
    "    for number, freq in frequency.items():\n",
    "        if freq == highest_freq:\n",
    "            highest_freq_list.append(number)\n",
    "    print(highest_freq_list)"
   ]
  },
  {
   "cell_type": "code",
   "execution_count": 212,
   "metadata": {},
   "outputs": [
    {
     "name": "stdout",
     "output_type": "stream",
     "text": [
      "[122.3]\n"
     ]
    }
   ],
   "source": [
    "mode(ar)\n"
   ]
  },
  {
   "cell_type": "code",
   "execution_count": 213,
   "metadata": {},
   "outputs": [],
   "source": [
    "def sd(ar):\n",
    "    length = len(ar)\n",
    "    mean = sum(ar)/length\n",
    "    dev = [pow(val-mean, 2) for val in ar]\n",
    "    variance = sum(dev)/length\n",
    "    sdv = math.sqrt(variance)\n",
    "    return sdv\n",
    "    #print(\"standard deviation \",sdv)\n",
    "    #print(\"variance \",variance)\n"
   ]
  },
  {
   "cell_type": "code",
   "execution_count": 214,
   "metadata": {},
   "outputs": [
    {
     "data": {
      "text/plain": [
       "25.260003337193787"
      ]
     },
     "execution_count": 214,
     "metadata": {},
     "output_type": "execute_result"
    }
   ],
   "source": [
    "sd(ar)\n"
   ]
  },
  {
   "cell_type": "code",
   "execution_count": 215,
   "metadata": {},
   "outputs": [],
   "source": [
    "def normalization(ar):\n",
    "    max_arr = max(ar)\n",
    "    min_arr = min(ar)\n",
    "    normal = []\n",
    "    for x in ar:\n",
    "        calc = (x-min_arr)/(max_arr-min_arr)\n",
    "        normal.append(calc)\n",
    "    print(normal)\n"
   ]
  },
  {
   "cell_type": "code",
   "execution_count": 216,
   "metadata": {},
   "outputs": [
    {
     "name": "stdout",
     "output_type": "stream",
     "text": [
      "[0.0, 0.14462416745956222, 0.18839200761179828, 0.1950523311132255, 0.23691722169362506, 0.24643196955280677, 0.2863939105613701, 0.3035204567078972, 0.3035204567078972, 0.3330161750713606, 1.0]\n"
     ]
    }
   ],
   "source": [
    "normalization(ar)\n"
   ]
  },
  {
   "cell_type": "code",
   "execution_count": 217,
   "metadata": {},
   "outputs": [],
   "source": [
    "def standardization(ar):\n",
    "    length = len(ar)\n",
    "    mean = sum(ar)/length\n",
    "    dev = [pow(val-mean, 2) for val in ar]\n",
    "    variance = sum(dev)/length\n",
    "    sdv = math.sqrt(variance)\n",
    "    standard = []\n",
    "    for x in ar:\n",
    "        calc = (x-mean)/sdv\n",
    "        standard.append(calc)\n",
    "    print(standard)\n"
   ]
  },
  {
   "cell_type": "code",
   "execution_count": 218,
   "metadata": {},
   "outputs": [
    {
     "name": "stdout",
     "output_type": "stream",
     "text": [
      "[-1.2247173218228256, -0.6229755169189863, -0.44086944438229775, -0.4131576507354103, -0.23896923352640445, -0.19938095688799395, -0.033110195006669736, 0.03814870294246905, 0.03814870294246905, 0.1608723605215419, 2.9360105528741176]\n"
     ]
    }
   ],
   "source": [
    "standardization(ar)\n"
   ]
  },
  {
   "cell_type": "code",
   "execution_count": null,
   "metadata": {},
   "outputs": [],
   "source": []
  },
  {
   "cell_type": "code",
   "execution_count": null,
   "metadata": {},
   "outputs": [],
   "source": []
  }
 ],
 "metadata": {
  "kernelspec": {
   "display_name": "Python 3",
   "language": "python",
   "name": "python3"
  },
  "language_info": {
   "codemirror_mode": {
    "name": "ipython",
    "version": 3
   },
   "file_extension": ".py",
   "mimetype": "text/x-python",
   "name": "python",
   "nbconvert_exporter": "python",
   "pygments_lexer": "ipython3",
   "version": "3.10.12"
  }
 },
 "nbformat": 4,
 "nbformat_minor": 2
}
