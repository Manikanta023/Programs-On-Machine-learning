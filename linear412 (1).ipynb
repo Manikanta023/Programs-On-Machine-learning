{
 "cells": [
  {
   "cell_type": "code",
   "execution_count": 1,
   "id": "c4d6c04c",
   "metadata": {},
   "outputs": [],
   "source": [
    "import pandas as pd"
   ]
  },
  {
   "cell_type": "code",
   "execution_count": 7,
   "id": "be880cfc",
   "metadata": {},
   "outputs": [
    {
     "name": "stdout",
     "output_type": "stream",
     "text": [
      "     6.1101    17.592\n",
      "0    5.5277   9.13020\n",
      "1    8.5186  13.66200\n",
      "2    7.0032  11.85400\n",
      "3    5.8598   6.82330\n",
      "4    8.3829  11.88600\n",
      "..      ...       ...\n",
      "91   5.8707   7.20290\n",
      "92   5.3054   1.98690\n",
      "93   8.2934   0.14454\n",
      "94  13.3940   9.05510\n",
      "95   5.4369   0.61705\n",
      "\n",
      "[96 rows x 2 columns]\n"
     ]
    }
   ],
   "source": [
    "df=pd.read_csv(\"Food-Truck(For Linear Regression Program) (3).csv\")\n",
    "print(df)"
   ]
  },
  {
   "cell_type": "code",
   "execution_count": 8,
   "id": "bec78591",
   "metadata": {},
   "outputs": [
    {
     "name": "stdout",
     "output_type": "stream",
     "text": [
      "Index(['6.1101', '17.592'], dtype='object')\n"
     ]
    }
   ],
   "source": [
    "\n",
    "import pandas as pd\n",
    "\n",
    "column_names = df.columns\n",
    "\n",
    "print(column_names)\n"
   ]
  },
  {
   "cell_type": "code",
   "execution_count": 9,
   "id": "1bfb8c4a",
   "metadata": {},
   "outputs": [
    {
     "data": {
      "image/png": "[encoded data removed]",
      "text/plain": [
       "<Figure size 432x288 with 1 Axes>"
      ]
     },
     "metadata": {
      "needs_background": "light"
     },
     "output_type": "display_data"
    }
   ],
   "source": [
    "\n",
    "import matplotlib.pyplot as plt\n",
    "import pandas as pd\n",
    "\n",
    "df.columns = ['Population', 'Profit']\n",
    "\n",
    "X = df['Population']\n",
    "y = df['Profit']\n",
    "\n",
    "plt.scatter(X, y)\n",
    "plt.xlabel('Population (in 10,000s)')\n",
    "plt.ylabel('Profit (in $10,000s)')\n",
    "plt.title('Food Truck Profit vs. Population')\n",
    "plt.grid(True)\n",
    "plt.show()"
   ]
  },
  {
   "cell_type": "code",
   "execution_count": 10,
   "id": "e93647c5",
   "metadata": {},
   "outputs": [
    {
     "name": "stdout",
     "output_type": "stream",
     "text": [
      "Slope (m): 1.2135472539083587\n"
     ]
    }
   ],
   "source": [
    "import numpy as np\n",
    "\n",
    "\n",
    "S_x = np.std(X)\n",
    "S_y = np.std(y)\n",
    "\n",
    "r = np.corrcoef(X, y)[0, 1]\n",
    "\n",
    "m = r * (S_y / S_x)\n",
    "\n",
    "print(\"Slope (m):\", m)"
   ]
  },
  {
   "cell_type": "code",
   "execution_count": 11,
   "id": "d60f1ff1",
   "metadata": {},
   "outputs": [
    {
     "data": {
      "text/plain": [
       "1.2436540782432477"
      ]
     },
     "execution_count": 11,
     "metadata": {},
     "output_type": "execute_result"
    }
   ],
   "source": [
    "c=X.mean() - m * y.mean()\n",
    "c"
   ]
  },
  {
   "cell_type": "code",
   "execution_count": 14,
   "id": "93df60b7",
   "metadata": {},
   "outputs": [
    {
     "data": {
      "text/html": [
       "<div>\n",
       "<style scoped>\n",
       "    .dataframe tbody tr th:only-of-type {\n",
       "        vertical-align: middle;\n",
       "    }\n",
       "\n",
       "    .dataframe tbody tr th {\n",
       "        vertical-align: top;\n",
       "    }\n",
       "\n",
       "    .dataframe thead th {\n",
       "        text-align: right;\n",
       "    }\n",
       "</style>\n",
       "<table border=\"1\" class=\"dataframe\">\n",
       "  <thead>\n",
       "    <tr style=\"text-align: right;\">\n",
       "      <th></th>\n",
       "      <th>Population</th>\n",
       "      <th>Profit</th>\n",
       "      <th>y_prediction</th>\n",
       "    </tr>\n",
       "  </thead>\n",
       "  <tbody>\n",
       "    <tr>\n",
       "      <th>0</th>\n",
       "      <td>5.5277</td>\n",
       "      <td>9.13020</td>\n",
       "      <td>7.951779</td>\n",
       "    </tr>\n",
       "    <tr>\n",
       "      <th>1</th>\n",
       "      <td>8.5186</td>\n",
       "      <td>13.66200</td>\n",
       "      <td>11.581378</td>\n",
       "    </tr>\n",
       "    <tr>\n",
       "      <th>2</th>\n",
       "      <td>7.0032</td>\n",
       "      <td>11.85400</td>\n",
       "      <td>9.742368</td>\n",
       "    </tr>\n",
       "    <tr>\n",
       "      <th>3</th>\n",
       "      <td>5.8598</td>\n",
       "      <td>6.82330</td>\n",
       "      <td>8.354798</td>\n",
       "    </tr>\n",
       "    <tr>\n",
       "      <th>4</th>\n",
       "      <td>8.3829</td>\n",
       "      <td>11.88600</td>\n",
       "      <td>11.416699</td>\n",
       "    </tr>\n",
       "    <tr>\n",
       "      <th>...</th>\n",
       "      <td>...</td>\n",
       "      <td>...</td>\n",
       "      <td>...</td>\n",
       "    </tr>\n",
       "    <tr>\n",
       "      <th>91</th>\n",
       "      <td>5.8707</td>\n",
       "      <td>7.20290</td>\n",
       "      <td>8.368026</td>\n",
       "    </tr>\n",
       "    <tr>\n",
       "      <th>92</th>\n",
       "      <td>5.3054</td>\n",
       "      <td>1.98690</td>\n",
       "      <td>7.682008</td>\n",
       "    </tr>\n",
       "    <tr>\n",
       "      <th>93</th>\n",
       "      <td>8.2934</td>\n",
       "      <td>0.14454</td>\n",
       "      <td>11.308087</td>\n",
       "    </tr>\n",
       "    <tr>\n",
       "      <th>94</th>\n",
       "      <td>13.3940</td>\n",
       "      <td>9.05510</td>\n",
       "      <td>17.497906</td>\n",
       "    </tr>\n",
       "    <tr>\n",
       "      <th>95</th>\n",
       "      <td>5.4369</td>\n",
       "      <td>0.61705</td>\n",
       "      <td>7.841589</td>\n",
       "    </tr>\n",
       "  </tbody>\n",
       "</table>\n",
       "<p>96 rows × 3 columns</p>\n",
       "</div>"
      ],
      "text/plain": [
       "    Population    Profit  y_prediction\n",
       "0       5.5277   9.13020      7.951779\n",
       "1       8.5186  13.66200     11.581378\n",
       "2       7.0032  11.85400      9.742368\n",
       "3       5.8598   6.82330      8.354798\n",
       "4       8.3829  11.88600     11.416699\n",
       "..         ...       ...           ...\n",
       "91      5.8707   7.20290      8.368026\n",
       "92      5.3054   1.98690      7.682008\n",
       "93      8.2934   0.14454     11.308087\n",
       "94     13.3940   9.05510     17.497906\n",
       "95      5.4369   0.61705      7.841589\n",
       "\n",
       "[96 rows x 3 columns]"
      ]
     },
     "execution_count": 14,
     "metadata": {},
     "output_type": "execute_result"
    }
   ],
   "source": [
    "df[\"y_prediction\"]=m * X + c\n",
    "df"
   ]
  },
  {
   "cell_type": "code",
   "execution_count": 17,
   "id": "74726cf0",
   "metadata": {},
   "outputs": [
    {
     "data": {
      "text/plain": [
       "3521.0796983152445"
      ]
     },
     "execution_count": 17,
     "metadata": {},
     "output_type": "execute_result"
    }
   ],
   "source": [
    "y_mean=np.mean(df[\"y_prediction\"])\n",
    "ym=np.mean(y)\n",
    "sse=np.sum((y-df[\"y_prediction\"])**2)\n",
    "sse"
   ]
  },
  {
   "cell_type": "code",
   "execution_count": 18,
   "id": "16fa4929",
   "metadata": {},
   "outputs": [
    {
     "data": {
      "text/plain": [
       "2111.0386393116273"
      ]
     },
     "execution_count": 18,
     "metadata": {},
     "output_type": "execute_result"
    }
   ],
   "source": [
    "ssr=np.sum((df[\"y_prediction\"]-y_mean)**2)\n",
    "ssr"
   ]
  },
  {
   "cell_type": "code",
   "execution_count": 19,
   "id": "c3758186",
   "metadata": {},
   "outputs": [
    {
     "data": {
      "text/plain": [
       "2775.2783647179626"
      ]
     },
     "execution_count": 19,
     "metadata": {},
     "output_type": "execute_result"
    }
   ],
   "source": [
    "sst=np.sum((y-ym)**2)\n",
    "sst"
   ]
  },
  {
   "cell_type": "code",
   "execution_count": 20,
   "id": "a554c270",
   "metadata": {},
   "outputs": [
    {
     "data": {
      "text/plain": [
       "0.7606583419339852"
      ]
     },
     "execution_count": 20,
     "metadata": {},
     "output_type": "execute_result"
    }
   ],
   "source": [
    "r_square=ssr/sst\n",
    "r_square"
   ]
  },
  {
   "cell_type": "code",
   "execution_count": null,
   "id": "adc375f9",
   "metadata": {},
   "outputs": [],
   "source": []
  }
 ],
 "metadata": {
  "kernelspec": {
   "display_name": "Python 3 (ipykernel)",
   "language": "python",
   "name": "python3"
  },
  "language_info": {
   "codemirror_mode": {
    "name": "ipython",
    "version": 3
   },
   "file_extension": ".py",
   "mimetype": "text/x-python",
   "name": "python",
   "nbconvert_exporter": "python",
   "pygments_lexer": "ipython3",
   "version": "3.10.12"
  }
 },
 "nbformat": 4,
 "nbformat_minor": 5
}
